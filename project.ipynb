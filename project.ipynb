{
 "cells": [
  {
   "cell_type": "markdown",
   "metadata": {},
   "source": [
    "# DX 602 Final Project"
   ]
  },
  {
   "cell_type": "markdown",
   "metadata": {},
   "source": [
    "## Introduction\n",
    "\n",
    "In this project, you will practice the skills that you have learned throughout this module with a heavy focus on building models.\n",
    "Most of the problems and questions are open ended compared to your previous homeworks, and you will be asked to explain your choices.\n",
    "Most of them will have a particular type of solution implied, but it is up to you to figure out the details based on what you have learned in this module."
   ]
  },
  {
   "cell_type": "markdown",
   "metadata": {},
   "source": [
    "## Instructions\n",
    "\n",
    "Each problem asks you to perform build models, run a computation, or otherwise perform some analysis of the data, and usually answer some questions about the results.\n",
    "Make sure that your question answers are well supported by your analysis and explanations; simply stating an answer without support will earn minimal points.\n",
    "\n",
    "Notebook cells for code and text have been added for your convenience, but feel free to add additional cells."
   ]
  },
  {
   "cell_type": "markdown",
   "metadata": {},
   "source": [
    "## Example Code\n",
    "\n",
    "You may find it helpful to refer to this GitHub repository of Jupyter notebooks for example code.\n",
    "\n",
    "* https://github.com/bu-cds-omds/dx601-examples\n",
    "* https://github.com/bu-cds-omds/dx602-examples\n",
    "\n",
    "Any calculations demonstrated in code examples or videos may be found in these notebooks, and you are allowed to copy this example code in your homework answers."
   ]
  },
  {
   "cell_type": "markdown",
   "metadata": {},
   "source": [
    "## Submission\n",
    "\n",
    "To submit your homework, take the following steps.\n",
    "\n",
    "1. Save and commit this notebook.\n",
    "2. Push your changes to GitHub.\n",
    "3. Confirm that your changes are visible in GitHub.\n",
    "4. Delete the codespace to avoid wasting your free quota.\n",
    "\n",
    "This project will be entirely manually graded.\n",
    "However, we may rerun some or all of your code to confirm that it works as described."
   ]
  },
  {
   "cell_type": "markdown",
   "metadata": {},
   "source": [
    "### Late Policy\n",
    "\n",
    "The normal homework late policy for OMDS does not apply to this project.\n",
    "Boston University requires final grades to be submitted within 72 hours of class instruction ending, so we cannot accommodate 5 days of late submissions.\n",
    "\n",
    "However, we have delayed the due date of this project to be substantially later than necessary given its scope, and given you more days for submission with full credit than you would have had days for submission with partial credit under the homework late policy.\n",
    "The Thanksgiving holiday was also taken into account in setting the deadline.\n",
    "Finally, the deadlines for DX 601 and DX 602 were coordinated to be a week apart while giving ample time for both of their projects."
   ]
  },
  {
   "cell_type": "markdown",
   "metadata": {},
   "source": [
    "## Shared Imports\n",
    "\n",
    "For this project, you are forbidden to use modules that were not loaded in this template.\n",
    "While other modules are handy in practice, modules that trivialize these problems interfere with our assessment of your own knowledge and skills.\n",
    "\n",
    "If you believe a module covered in the course material (not live sessions) is missing, please check with your learning facilitator."
   ]
  },
  {
   "cell_type": "code",
   "execution_count": 1,
   "metadata": {},
   "outputs": [],
   "source": [
    "import math\n",
    "import sys"
   ]
  },
  {
   "cell_type": "code",
   "execution_count": 2,
   "metadata": {},
   "outputs": [],
   "source": [
    "import matplotlib.pyplot as plt\n",
    "import numpy as np\n",
    "import pandas as pd\n",
    "import scipy.stats\n",
    "import sklearn.linear_model"
   ]
  },
  {
   "cell_type": "markdown",
   "metadata": {},
   "source": [
    "## Problems"
   ]
  },
  {
   "cell_type": "markdown",
   "metadata": {},
   "source": [
    "### Problem 1 (5 points)\n",
    "\n",
    "Pick one of the following data sets to analyze in this project.\n",
    "Load the data set, and show a random sample of 10 rows.\n",
    "\n",
    "* [Titanic disaster](https://www.kaggle.com/c/titanic/data) ([PMLB copy](https://github.com/EpistasisLab/pmlb/tree/master/datasets/titanic))\n",
    "* [Wine Quality](https://archive.ics.uci.edu/dataset/186/wine+quality) ([PMLB - red subset only](https://github.com/EpistasisLab/pmlb/tree/master/datasets/wine_quality_red))\n",
    "* [Body Fat](https://www.openml.org/search?type=data&status=active&id=560) ([PMLB](https://github.com/EpistasisLab/pmlb/tree/master/datasets/560_bodyfat))\n",
    "\n",
    "The PMLB copies of the data are generally cleaner and recommended for this project, but the other links are provided to give you more context.\n",
    "To load the data from the PMLB Github repository, navigate to the `.tsv.gz` file in GitHub and copy the link from the \"Raw\" button.\n",
    "\n",
    "If the dataset has missing data, you should drop the rows with missing data before proceeding.\n",
    "If the data set you choose has more than ten columns, you may limit later analysis that is requested per column to just the first ten columns."
   ]
  },
  {
   "cell_type": "code",
   "execution_count": null,
   "metadata": {},
   "outputs": [],
   "source": [
    "# YOUR CODE HERE"
   ]
  },
  {
   "cell_type": "markdown",
   "metadata": {},
   "source": [
    "YOUR ANSWERS HERE"
   ]
  },
  {
   "cell_type": "markdown",
   "metadata": {},
   "source": [
    "### Problem 2 (10 points)\n",
    "\n",
    "List all of the columns and describe them in your own words."
   ]
  },
  {
   "cell_type": "code",
   "execution_count": null,
   "metadata": {},
   "outputs": [],
   "source": [
    "# YOUR CODE HERE"
   ]
  },
  {
   "cell_type": "markdown",
   "metadata": {},
   "source": [
    "YOUR ANSWERS HERE"
   ]
  },
  {
   "cell_type": "markdown",
   "metadata": {},
   "source": [
    "### Problem 3 (50 points)\n",
    "\n",
    "Perform an exploratory analysis of the data set.\n",
    "After your exploratory analysis, pick 3 individual charts that you the think were particularly interesting.\n",
    "Repeat those charts separately from your original analysis, and after each of those charts, explain what you thought was noteworthy."
   ]
  },
  {
   "cell_type": "code",
   "execution_count": null,
   "metadata": {},
   "outputs": [],
   "source": [
    "# YOUR CODE HERE"
   ]
  },
  {
   "cell_type": "markdown",
   "metadata": {},
   "source": [
    "YOUR ANSWERS HERE"
   ]
  },
  {
   "cell_type": "markdown",
   "metadata": {},
   "source": [
    "### Problem 4 (5 points)\n",
    "\n",
    "Plot the correlation matrix of the numeric columns in the data set.\n",
    "Which pair of different columns were highlighted as the most correlated?"
   ]
  },
  {
   "cell_type": "code",
   "execution_count": null,
   "metadata": {},
   "outputs": [],
   "source": [
    "# YOUR CODE HERE"
   ]
  },
  {
   "cell_type": "markdown",
   "metadata": {},
   "source": [
    "YOUR ANSWERS HERE"
   ]
  },
  {
   "cell_type": "markdown",
   "metadata": {},
   "source": [
    "### Problem 5 (10 points)\n",
    "\n",
    "Pick three different regression model classes to try in problem 6 from the scikit-learn documentation.\n",
    "For each class, provide a link to the scikit-learn documentation, and a link to another web page describing how that kind of model works.\n",
    "The second link should not be from scikit-learn, but Wikipedia is acceptable.\n",
    "You do not need to understand the methods at this time, but it is good to be comfortable researching them."
   ]
  },
  {
   "cell_type": "code",
   "execution_count": null,
   "metadata": {},
   "outputs": [],
   "source": [
    "# YOUR CODE HERE"
   ]
  },
  {
   "cell_type": "markdown",
   "metadata": {},
   "source": [
    "YOUR ANSWERS HERE"
   ]
  },
  {
   "cell_type": "markdown",
   "metadata": {},
   "source": [
    "### Problem 6 (50 points)\n",
    "\n",
    "Build three different regression models using the entire data set.\n",
    "Plot the actual target vs the predicted values for each in one chart.\n",
    "Compute the L2 and L1 losses for each of them.\n",
    "You may use any regression class provided provided by scikit-learn, and you may reuse one class as long as you change its parameters enough to see different results."
   ]
  },
  {
   "cell_type": "code",
   "execution_count": null,
   "metadata": {},
   "outputs": [],
   "source": [
    "# YOUR CODE HERE"
   ]
  },
  {
   "cell_type": "markdown",
   "metadata": {},
   "source": [
    "YOUR ANSWERS HERE"
   ]
  },
  {
   "cell_type": "markdown",
   "metadata": {},
   "source": [
    "### Problem 7 (30 points)\n",
    "\n",
    "Use 5-fold cross-validation to repeat building the same three kinds of regression models. Compare the L2 losses predicted by cross-validation against the L2 losses training against the whole data set. (The difference is likely from overfitting in the latter.)"
   ]
  },
  {
   "cell_type": "code",
   "execution_count": null,
   "metadata": {},
   "outputs": [],
   "source": [
    "# YOUR CODE HERE"
   ]
  },
  {
   "cell_type": "markdown",
   "metadata": {},
   "source": [
    "YOUR ANSWERS HERE"
   ]
  },
  {
   "cell_type": "markdown",
   "metadata": {},
   "source": [
    "### Problem 8 (25 points)\n",
    "\n",
    "Build three different regression models as in problem 6, but preprocess the data so that each column has mean zero and standard deviation one first.\n",
    "For full credit, use a scikit-learn pipeline for each model.\n",
    "For each model, compare the L2 losses -- which of them performed differently from your results in problem 6?\n",
    "\n",
    "(This process will be covered in week 13.)"
   ]
  },
  {
   "cell_type": "code",
   "execution_count": null,
   "metadata": {},
   "outputs": [],
   "source": [
    "# YOUR CODE HERE"
   ]
  },
  {
   "cell_type": "markdown",
   "metadata": {},
   "source": [
    "YOUR ANSWERS HERE"
   ]
  },
  {
   "cell_type": "markdown",
   "metadata": {},
   "source": [
    "### Problem 9 (5 points)\n",
    "\n",
    "A colleague suggests that you find better models by repeatedly building decision trees with random depth limits.\n",
    "They say that trying 1000 such models will likely find an improvement as long as you use cross validation.\n",
    "Give a one sentence response to this suggestion. "
   ]
  },
  {
   "cell_type": "code",
   "execution_count": null,
   "metadata": {},
   "outputs": [],
   "source": [
    "# YOUR CODE HERE"
   ]
  },
  {
   "cell_type": "markdown",
   "metadata": {},
   "source": [
    "YOUR ANSWERS HERE"
   ]
  },
  {
   "cell_type": "markdown",
   "metadata": {},
   "source": [
    "### Problem 10 (10 points)\n",
    "\n",
    "Pick a best model from all the models that you built and otherwise described in this project.\n",
    "Explain how you picked it, including what criteria you chose, and how the other models compared by that criteria.\n",
    "As much as possible, justify that problem in the context of the original data set. "
   ]
  },
  {
   "cell_type": "code",
   "execution_count": null,
   "metadata": {},
   "outputs": [],
   "source": [
    "# YOUR CODE HERE"
   ]
  },
  {
   "cell_type": "markdown",
   "metadata": {},
   "source": [
    "YOUR ANSWERS HERE"
   ]
  }
 ],
 "metadata": {
  "kernelspec": {
   "display_name": "Python 3",
   "language": "python",
   "name": "python3"
  },
  "language_info": {
   "codemirror_mode": {
    "name": "ipython",
    "version": 3
   },
   "file_extension": ".py",
   "mimetype": "text/x-python",
   "name": "python",
   "nbconvert_exporter": "python",
   "pygments_lexer": "ipython3",
   "version": "3.13.0"
  }
 },
 "nbformat": 4,
 "nbformat_minor": 2
}
