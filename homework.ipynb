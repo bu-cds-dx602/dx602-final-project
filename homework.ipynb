{
  "cells": [
    {
      "cell_type": "markdown",
      "metadata": {
        "id": "lt-cbZAamx4R"
      },
      "source": [
        "# DX 602 Week 12 Homework"
      ]
    },
    {
      "cell_type": "markdown",
      "metadata": {
        "id": "OtGGYTORKdDm"
      },
      "source": [
        "## Introduction\n",
        "\n",
        "TODO different because final project"
      ]
    },
    {
      "cell_type": "markdown",
      "metadata": {
        "id": "Rn3h-22oKuvx"
      },
      "source": [
        "### Submission\n",
        "\n",
        "To submit your homework, take the following steps.\n",
        "\n",
        "1. Save and commit this notebook.\n",
        "2. Push your changes to GitHub.\n",
        "3. Confirm that your changes are visible in GitHub.\n",
        "4. Delete the codespace to avoid wasting your free quota.\n",
        "\n",
        "This homework will be manually graded, so you will not get immediate feedback from the auto-grading process."
      ]
    }
  ],
  "metadata": {
    "colab": {
      "toc_visible": false
    },
    "kernelspec": {
      "display_name": "Python 3",
      "name": "python3"
    },
    "language_info": {
      "codemirror_mode": {
        "name": "ipython",
        "version": 3
      },
      "file_extension": ".py",
      "mimetype": "text/x-python",
      "name": "python",
      "nbconvert_exporter": "python",
      "pygments_lexer": "ipython3",
      "version": "3.9.6"
    }
  },
  "nbformat": 4,
  "nbformat_minor": 0
}